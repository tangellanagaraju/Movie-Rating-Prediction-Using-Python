{
 "cells": [
  {
   "cell_type": "markdown",
   "id": "6407b8f5",
   "metadata": {},
   "source": [
    "# CODTECH IT SOLUTIONS [Author - T.Nagaraju, Data science Intern]"
   ]
  },
  {
   "cell_type": "markdown",
   "id": "867d090d",
   "metadata": {},
   "source": [
    "### TASK-5 Movie Rating Prediction With Python\n"
   ]
  },
  {
   "cell_type": "markdown",
   "id": "341fb272",
   "metadata": {},
   "source": [
    "Dataset Sample : https://www.kaggle.com/code/bhanupratapbiswas/movie-rating-prediction-with-python/input"
   ]
  },
  {
   "cell_type": "code",
   "execution_count": 1,
   "id": "f6c796a9",
   "metadata": {},
   "outputs": [],
   "source": [
    "#importing the required libraries\n",
    "import pandas as pd\n",
    "import matplotlib.pyplot as plt\n",
    "import numpy as np\n",
    "import seaborn as sns\n",
    "from sklearn.model_selection import train_test_split\n",
    "from sklearn.linear_model import LogisticRegression\n",
    "from sklearn.svm import SVC, LinearSVC\n",
    "from sklearn.ensemble import RandomForestClassifier\n",
    "from sklearn.neighbors import KNeighborsClassifier\n",
    "from sklearn.naive_bayes import GaussianNB\n",
    "from sklearn.linear_model import Perceptron\n",
    "from sklearn.linear_model import SGDClassifier\n",
    "from sklearn.tree import DecisionTreeClassifier\n",
    "import warnings\n",
    "warnings.filterwarnings('ignore')"
   ]
  },
  {
   "cell_type": "code",
   "execution_count": 2,
   "id": "f40d9b80",
   "metadata": {},
   "outputs": [
    {
     "data": {
      "text/html": [
       "<div>\n",
       "<style scoped>\n",
       "    .dataframe tbody tr th:only-of-type {\n",
       "        vertical-align: middle;\n",
       "    }\n",
       "\n",
       "    .dataframe tbody tr th {\n",
       "        vertical-align: top;\n",
       "    }\n",
       "\n",
       "    .dataframe thead th {\n",
       "        text-align: right;\n",
       "    }\n",
       "</style>\n",
       "<table border=\"1\" class=\"dataframe\">\n",
       "  <thead>\n",
       "    <tr style=\"text-align: right;\">\n",
       "      <th></th>\n",
       "      <th>MovieID</th>\n",
       "      <th>Title</th>\n",
       "      <th>Genres</th>\n",
       "    </tr>\n",
       "  </thead>\n",
       "  <tbody>\n",
       "    <tr>\n",
       "      <th>0</th>\n",
       "      <td>2</td>\n",
       "      <td>Jumanji (1995)</td>\n",
       "      <td>Adventure|Children's|Fantasy</td>\n",
       "    </tr>\n",
       "    <tr>\n",
       "      <th>1</th>\n",
       "      <td>3</td>\n",
       "      <td>Grumpier Old Men (1995)</td>\n",
       "      <td>Comedy|Romance</td>\n",
       "    </tr>\n",
       "    <tr>\n",
       "      <th>2</th>\n",
       "      <td>4</td>\n",
       "      <td>Waiting to Exhale (1995)</td>\n",
       "      <td>Comedy|Drama</td>\n",
       "    </tr>\n",
       "    <tr>\n",
       "      <th>3</th>\n",
       "      <td>5</td>\n",
       "      <td>Father of the Bride Part II (1995)</td>\n",
       "      <td>Comedy</td>\n",
       "    </tr>\n",
       "    <tr>\n",
       "      <th>4</th>\n",
       "      <td>6</td>\n",
       "      <td>Heat (1995)</td>\n",
       "      <td>Action|Crime|Thriller</td>\n",
       "    </tr>\n",
       "  </tbody>\n",
       "</table>\n",
       "</div>"
      ],
      "text/plain": [
       "   MovieID                               Title                        Genres\n",
       "0        2                      Jumanji (1995)  Adventure|Children's|Fantasy\n",
       "1        3             Grumpier Old Men (1995)                Comedy|Romance\n",
       "2        4            Waiting to Exhale (1995)                  Comedy|Drama\n",
       "3        5  Father of the Bride Part II (1995)                        Comedy\n",
       "4        6                         Heat (1995)         Action|Crime|Thriller"
      ]
     },
     "execution_count": 2,
     "metadata": {},
     "output_type": "execute_result"
    }
   ],
   "source": [
    "#Input movies dataset\n",
    "movies = pd.read_csv('movies.dat', sep='::', engine='python', encoding='latin1')\n",
    "movies.columns =['MovieID', 'Title', 'Genres']\n",
    "movies.dropna(inplace=True)\n",
    "movies.head()"
   ]
  },
  {
   "cell_type": "code",
   "execution_count": 4,
   "id": "a1d148e2",
   "metadata": {},
   "outputs": [
    {
     "data": {
      "text/html": [
       "<div>\n",
       "<style scoped>\n",
       "    .dataframe tbody tr th:only-of-type {\n",
       "        vertical-align: middle;\n",
       "    }\n",
       "\n",
       "    .dataframe tbody tr th {\n",
       "        vertical-align: top;\n",
       "    }\n",
       "\n",
       "    .dataframe thead th {\n",
       "        text-align: right;\n",
       "    }\n",
       "</style>\n",
       "<table border=\"1\" class=\"dataframe\">\n",
       "  <thead>\n",
       "    <tr style=\"text-align: right;\">\n",
       "      <th></th>\n",
       "      <th>UserID</th>\n",
       "      <th>MovieID</th>\n",
       "      <th>Rating</th>\n",
       "      <th>Timestamp</th>\n",
       "    </tr>\n",
       "  </thead>\n",
       "  <tbody>\n",
       "    <tr>\n",
       "      <th>0</th>\n",
       "      <td>1</td>\n",
       "      <td>661</td>\n",
       "      <td>3</td>\n",
       "      <td>978302109</td>\n",
       "    </tr>\n",
       "    <tr>\n",
       "      <th>1</th>\n",
       "      <td>1</td>\n",
       "      <td>914</td>\n",
       "      <td>3</td>\n",
       "      <td>978301968</td>\n",
       "    </tr>\n",
       "    <tr>\n",
       "      <th>2</th>\n",
       "      <td>1</td>\n",
       "      <td>3408</td>\n",
       "      <td>4</td>\n",
       "      <td>978300275</td>\n",
       "    </tr>\n",
       "    <tr>\n",
       "      <th>3</th>\n",
       "      <td>1</td>\n",
       "      <td>2355</td>\n",
       "      <td>5</td>\n",
       "      <td>978824291</td>\n",
       "    </tr>\n",
       "    <tr>\n",
       "      <th>4</th>\n",
       "      <td>1</td>\n",
       "      <td>1197</td>\n",
       "      <td>3</td>\n",
       "      <td>978302268</td>\n",
       "    </tr>\n",
       "    <tr>\n",
       "      <th>5</th>\n",
       "      <td>1</td>\n",
       "      <td>1287</td>\n",
       "      <td>5</td>\n",
       "      <td>978302039</td>\n",
       "    </tr>\n",
       "    <tr>\n",
       "      <th>6</th>\n",
       "      <td>1</td>\n",
       "      <td>2804</td>\n",
       "      <td>5</td>\n",
       "      <td>978300719</td>\n",
       "    </tr>\n",
       "    <tr>\n",
       "      <th>7</th>\n",
       "      <td>1</td>\n",
       "      <td>594</td>\n",
       "      <td>4</td>\n",
       "      <td>978302268</td>\n",
       "    </tr>\n",
       "    <tr>\n",
       "      <th>8</th>\n",
       "      <td>1</td>\n",
       "      <td>919</td>\n",
       "      <td>4</td>\n",
       "      <td>978301368</td>\n",
       "    </tr>\n",
       "    <tr>\n",
       "      <th>9</th>\n",
       "      <td>1</td>\n",
       "      <td>595</td>\n",
       "      <td>5</td>\n",
       "      <td>978824268</td>\n",
       "    </tr>\n",
       "  </tbody>\n",
       "</table>\n",
       "</div>"
      ],
      "text/plain": [
       "   UserID  MovieID  Rating  Timestamp\n",
       "0       1      661       3  978302109\n",
       "1       1      914       3  978301968\n",
       "2       1     3408       4  978300275\n",
       "3       1     2355       5  978824291\n",
       "4       1     1197       3  978302268\n",
       "5       1     1287       5  978302039\n",
       "6       1     2804       5  978300719\n",
       "7       1      594       4  978302268\n",
       "8       1      919       4  978301368\n",
       "9       1      595       5  978824268"
      ]
     },
     "execution_count": 4,
     "metadata": {},
     "output_type": "execute_result"
    }
   ],
   "source": [
    "#Input ratings dataset\n",
    "ratings = pd.read_csv(\"ratings.dat\",sep='::', engine='python')\n",
    "ratings.columns =['UserID', 'MovieID', 'Rating', 'Timestamp']\n",
    "ratings.dropna(inplace=True)\n",
    "\n",
    "#Read the sample ratings dataset\n",
    "ratings.head(10)"
   ]
  },
  {
   "cell_type": "code",
   "execution_count": 5,
   "id": "b14c0fb2",
   "metadata": {},
   "outputs": [
    {
     "data": {
      "text/html": [
       "<div>\n",
       "<style scoped>\n",
       "    .dataframe tbody tr th:only-of-type {\n",
       "        vertical-align: middle;\n",
       "    }\n",
       "\n",
       "    .dataframe tbody tr th {\n",
       "        vertical-align: top;\n",
       "    }\n",
       "\n",
       "    .dataframe thead th {\n",
       "        text-align: right;\n",
       "    }\n",
       "</style>\n",
       "<table border=\"1\" class=\"dataframe\">\n",
       "  <thead>\n",
       "    <tr style=\"text-align: right;\">\n",
       "      <th></th>\n",
       "      <th>UserID</th>\n",
       "      <th>Gender</th>\n",
       "      <th>Age</th>\n",
       "      <th>Occupation</th>\n",
       "      <th>Zip-code</th>\n",
       "    </tr>\n",
       "  </thead>\n",
       "  <tbody>\n",
       "    <tr>\n",
       "      <th>0</th>\n",
       "      <td>2</td>\n",
       "      <td>M</td>\n",
       "      <td>56</td>\n",
       "      <td>16</td>\n",
       "      <td>70072</td>\n",
       "    </tr>\n",
       "    <tr>\n",
       "      <th>1</th>\n",
       "      <td>3</td>\n",
       "      <td>M</td>\n",
       "      <td>25</td>\n",
       "      <td>15</td>\n",
       "      <td>55117</td>\n",
       "    </tr>\n",
       "    <tr>\n",
       "      <th>2</th>\n",
       "      <td>4</td>\n",
       "      <td>M</td>\n",
       "      <td>45</td>\n",
       "      <td>7</td>\n",
       "      <td>02460</td>\n",
       "    </tr>\n",
       "    <tr>\n",
       "      <th>3</th>\n",
       "      <td>5</td>\n",
       "      <td>M</td>\n",
       "      <td>25</td>\n",
       "      <td>20</td>\n",
       "      <td>55455</td>\n",
       "    </tr>\n",
       "    <tr>\n",
       "      <th>4</th>\n",
       "      <td>6</td>\n",
       "      <td>F</td>\n",
       "      <td>50</td>\n",
       "      <td>9</td>\n",
       "      <td>55117</td>\n",
       "    </tr>\n",
       "  </tbody>\n",
       "</table>\n",
       "</div>"
      ],
      "text/plain": [
       "   UserID Gender  Age  Occupation Zip-code\n",
       "0       2      M   56          16    70072\n",
       "1       3      M   25          15    55117\n",
       "2       4      M   45           7    02460\n",
       "3       5      M   25          20    55455\n",
       "4       6      F   50           9    55117"
      ]
     },
     "execution_count": 5,
     "metadata": {},
     "output_type": "execute_result"
    }
   ],
   "source": [
    "#Input users dataset\n",
    "users = pd.read_csv(\"users.dat\",sep='::',engine='python')\n",
    "users.columns =['UserID', 'Gender', 'Age', 'Occupation', 'Zip-code']\n",
    "users.dropna(inplace=True)\n",
    "\n",
    "#Read the sample users dataset\n",
    "users.head()"
   ]
  },
  {
   "cell_type": "code",
   "execution_count": 6,
   "id": "24f4c7c7",
   "metadata": {},
   "outputs": [
    {
     "data": {
      "text/html": [
       "<div>\n",
       "<style scoped>\n",
       "    .dataframe tbody tr th:only-of-type {\n",
       "        vertical-align: middle;\n",
       "    }\n",
       "\n",
       "    .dataframe tbody tr th {\n",
       "        vertical-align: top;\n",
       "    }\n",
       "\n",
       "    .dataframe thead th {\n",
       "        text-align: right;\n",
       "    }\n",
       "</style>\n",
       "<table border=\"1\" class=\"dataframe\">\n",
       "  <thead>\n",
       "    <tr style=\"text-align: right;\">\n",
       "      <th></th>\n",
       "      <th>MovieID</th>\n",
       "      <th>Title</th>\n",
       "      <th>UserID</th>\n",
       "      <th>Age</th>\n",
       "      <th>Gender</th>\n",
       "      <th>Occupation</th>\n",
       "      <th>Rating</th>\n",
       "    </tr>\n",
       "  </thead>\n",
       "  <tbody>\n",
       "    <tr>\n",
       "      <th>0</th>\n",
       "      <td>1357</td>\n",
       "      <td>Shine (1996)</td>\n",
       "      <td>2</td>\n",
       "      <td>56</td>\n",
       "      <td>M</td>\n",
       "      <td>16</td>\n",
       "      <td>5</td>\n",
       "    </tr>\n",
       "    <tr>\n",
       "      <th>1</th>\n",
       "      <td>3068</td>\n",
       "      <td>Verdict, The (1982)</td>\n",
       "      <td>2</td>\n",
       "      <td>56</td>\n",
       "      <td>M</td>\n",
       "      <td>16</td>\n",
       "      <td>4</td>\n",
       "    </tr>\n",
       "    <tr>\n",
       "      <th>2</th>\n",
       "      <td>1537</td>\n",
       "      <td>Shall We Dance? (Shall We Dansu?) (1996)</td>\n",
       "      <td>2</td>\n",
       "      <td>56</td>\n",
       "      <td>M</td>\n",
       "      <td>16</td>\n",
       "      <td>4</td>\n",
       "    </tr>\n",
       "    <tr>\n",
       "      <th>3</th>\n",
       "      <td>647</td>\n",
       "      <td>Courage Under Fire (1996)</td>\n",
       "      <td>2</td>\n",
       "      <td>56</td>\n",
       "      <td>M</td>\n",
       "      <td>16</td>\n",
       "      <td>3</td>\n",
       "    </tr>\n",
       "    <tr>\n",
       "      <th>4</th>\n",
       "      <td>2194</td>\n",
       "      <td>Untouchables, The (1987)</td>\n",
       "      <td>2</td>\n",
       "      <td>56</td>\n",
       "      <td>M</td>\n",
       "      <td>16</td>\n",
       "      <td>4</td>\n",
       "    </tr>\n",
       "  </tbody>\n",
       "</table>\n",
       "</div>"
      ],
      "text/plain": [
       "   MovieID                                     Title  UserID  Age Gender  \\\n",
       "0     1357                              Shine (1996)       2   56      M   \n",
       "1     3068                       Verdict, The (1982)       2   56      M   \n",
       "2     1537  Shall We Dance? (Shall We Dansu?) (1996)       2   56      M   \n",
       "3      647                 Courage Under Fire (1996)       2   56      M   \n",
       "4     2194                  Untouchables, The (1987)       2   56      M   \n",
       "\n",
       "   Occupation  Rating  \n",
       "0          16       5  \n",
       "1          16       4  \n",
       "2          16       4  \n",
       "3          16       3  \n",
       "4          16       4  "
      ]
     },
     "execution_count": 6,
     "metadata": {},
     "output_type": "execute_result"
    }
   ],
   "source": [
    "#Merge the ratings and users with movieID and UserID\n",
    "ratings_user = pd.merge(ratings,users, on=['UserID'])\n",
    "ratings_movie = pd.merge(ratings,movies, on=['MovieID'])\n",
    "\n",
    "master_data = pd.merge(ratings_user,ratings_movie,\n",
    "                       on=['UserID', 'MovieID', 'Rating'])[['MovieID', 'Title', 'UserID', 'Age', 'Gender', 'Occupation', \"Rating\"]]\n",
    "\n",
    "master_data.head()"
   ]
  },
  {
   "cell_type": "code",
   "execution_count": 7,
   "id": "912ee21d",
   "metadata": {},
   "outputs": [
    {
     "data": {
      "text/html": [
       "<div>\n",
       "<style scoped>\n",
       "    .dataframe tbody tr th:only-of-type {\n",
       "        vertical-align: middle;\n",
       "    }\n",
       "\n",
       "    .dataframe tbody tr th {\n",
       "        vertical-align: top;\n",
       "    }\n",
       "\n",
       "    .dataframe thead th {\n",
       "        text-align: right;\n",
       "    }\n",
       "</style>\n",
       "<table border=\"1\" class=\"dataframe\">\n",
       "  <thead>\n",
       "    <tr style=\"text-align: right;\">\n",
       "      <th></th>\n",
       "      <th>MovieID</th>\n",
       "      <th>Title</th>\n",
       "      <th>UserID</th>\n",
       "      <th>Age</th>\n",
       "      <th>Gender</th>\n",
       "      <th>Occupation</th>\n",
       "      <th>Rating</th>\n",
       "    </tr>\n",
       "  </thead>\n",
       "  <tbody>\n",
       "    <tr>\n",
       "      <th>0</th>\n",
       "      <td>1357</td>\n",
       "      <td>Shine (1996)</td>\n",
       "      <td>2</td>\n",
       "      <td>56</td>\n",
       "      <td>M</td>\n",
       "      <td>16</td>\n",
       "      <td>5</td>\n",
       "    </tr>\n",
       "    <tr>\n",
       "      <th>6</th>\n",
       "      <td>2268</td>\n",
       "      <td>Few Good Men, A (1992)</td>\n",
       "      <td>2</td>\n",
       "      <td>56</td>\n",
       "      <td>M</td>\n",
       "      <td>16</td>\n",
       "      <td>5</td>\n",
       "    </tr>\n",
       "    <tr>\n",
       "      <th>10</th>\n",
       "      <td>3468</td>\n",
       "      <td>Hustler, The (1961)</td>\n",
       "      <td>2</td>\n",
       "      <td>56</td>\n",
       "      <td>M</td>\n",
       "      <td>16</td>\n",
       "      <td>5</td>\n",
       "    </tr>\n",
       "    <tr>\n",
       "      <th>15</th>\n",
       "      <td>3578</td>\n",
       "      <td>Gladiator (2000)</td>\n",
       "      <td>2</td>\n",
       "      <td>56</td>\n",
       "      <td>M</td>\n",
       "      <td>16</td>\n",
       "      <td>5</td>\n",
       "    </tr>\n",
       "    <tr>\n",
       "      <th>26</th>\n",
       "      <td>1610</td>\n",
       "      <td>Hunt for Red October, The (1990)</td>\n",
       "      <td>2</td>\n",
       "      <td>56</td>\n",
       "      <td>M</td>\n",
       "      <td>16</td>\n",
       "      <td>5</td>\n",
       "    </tr>\n",
       "    <tr>\n",
       "      <th>...</th>\n",
       "      <td>...</td>\n",
       "      <td>...</td>\n",
       "      <td>...</td>\n",
       "      <td>...</td>\n",
       "      <td>...</td>\n",
       "      <td>...</td>\n",
       "      <td>...</td>\n",
       "    </tr>\n",
       "    <tr>\n",
       "      <th>998065</th>\n",
       "      <td>1077</td>\n",
       "      <td>Sleeper (1973)</td>\n",
       "      <td>6040</td>\n",
       "      <td>25</td>\n",
       "      <td>M</td>\n",
       "      <td>6</td>\n",
       "      <td>5</td>\n",
       "    </tr>\n",
       "    <tr>\n",
       "      <th>998070</th>\n",
       "      <td>2022</td>\n",
       "      <td>Last Temptation of Christ, The (1988)</td>\n",
       "      <td>6040</td>\n",
       "      <td>25</td>\n",
       "      <td>M</td>\n",
       "      <td>6</td>\n",
       "      <td>5</td>\n",
       "    </tr>\n",
       "    <tr>\n",
       "      <th>998071</th>\n",
       "      <td>2028</td>\n",
       "      <td>Saving Private Ryan (1998)</td>\n",
       "      <td>6040</td>\n",
       "      <td>25</td>\n",
       "      <td>M</td>\n",
       "      <td>6</td>\n",
       "      <td>5</td>\n",
       "    </tr>\n",
       "    <tr>\n",
       "      <th>998076</th>\n",
       "      <td>1094</td>\n",
       "      <td>Crying Game, The (1992)</td>\n",
       "      <td>6040</td>\n",
       "      <td>25</td>\n",
       "      <td>M</td>\n",
       "      <td>6</td>\n",
       "      <td>5</td>\n",
       "    </tr>\n",
       "    <tr>\n",
       "      <th>998077</th>\n",
       "      <td>562</td>\n",
       "      <td>Welcome to the Dollhouse (1995)</td>\n",
       "      <td>6040</td>\n",
       "      <td>25</td>\n",
       "      <td>M</td>\n",
       "      <td>6</td>\n",
       "      <td>5</td>\n",
       "    </tr>\n",
       "  </tbody>\n",
       "</table>\n",
       "<p>225473 rows × 7 columns</p>\n",
       "</div>"
      ],
      "text/plain": [
       "        MovieID                                  Title  UserID  Age Gender  \\\n",
       "0          1357                           Shine (1996)       2   56      M   \n",
       "6          2268                 Few Good Men, A (1992)       2   56      M   \n",
       "10         3468                    Hustler, The (1961)       2   56      M   \n",
       "15         3578                       Gladiator (2000)       2   56      M   \n",
       "26         1610       Hunt for Red October, The (1990)       2   56      M   \n",
       "...         ...                                    ...     ...  ...    ...   \n",
       "998065     1077                         Sleeper (1973)    6040   25      M   \n",
       "998070     2022  Last Temptation of Christ, The (1988)    6040   25      M   \n",
       "998071     2028             Saving Private Ryan (1998)    6040   25      M   \n",
       "998076     1094                Crying Game, The (1992)    6040   25      M   \n",
       "998077      562        Welcome to the Dollhouse (1995)    6040   25      M   \n",
       "\n",
       "        Occupation  Rating  \n",
       "0               16       5  \n",
       "6               16       5  \n",
       "10              16       5  \n",
       "15              16       5  \n",
       "26              16       5  \n",
       "...            ...     ...  \n",
       "998065           6       5  \n",
       "998070           6       5  \n",
       "998071           6       5  \n",
       "998076           6       5  \n",
       "998077           6       5  \n",
       "\n",
       "[225473 rows x 7 columns]"
      ]
     },
     "execution_count": 7,
     "metadata": {},
     "output_type": "execute_result"
    }
   ],
   "source": [
    "# all 5 rating movies list count = 225473\n",
    "master_data[master_data['Rating'] == 5]"
   ]
  },
  {
   "cell_type": "code",
   "execution_count": 8,
   "id": "f0ffe7d8",
   "metadata": {},
   "outputs": [
    {
     "data": {
      "text/html": [
       "<div>\n",
       "<style scoped>\n",
       "    .dataframe tbody tr th:only-of-type {\n",
       "        vertical-align: middle;\n",
       "    }\n",
       "\n",
       "    .dataframe tbody tr th {\n",
       "        vertical-align: top;\n",
       "    }\n",
       "\n",
       "    .dataframe thead th {\n",
       "        text-align: right;\n",
       "    }\n",
       "</style>\n",
       "<table border=\"1\" class=\"dataframe\">\n",
       "  <thead>\n",
       "    <tr style=\"text-align: right;\">\n",
       "      <th></th>\n",
       "      <th>MovieID</th>\n",
       "      <th>Title</th>\n",
       "      <th>UserID</th>\n",
       "      <th>Age</th>\n",
       "      <th>Gender</th>\n",
       "      <th>Occupation</th>\n",
       "      <th>Rating</th>\n",
       "    </tr>\n",
       "  </thead>\n",
       "  <tbody>\n",
       "    <tr>\n",
       "      <th>1883</th>\n",
       "      <td>2987</td>\n",
       "      <td>Who Framed Roger Rabbit? (1988)</td>\n",
       "      <td>18</td>\n",
       "      <td>18</td>\n",
       "      <td>F</td>\n",
       "      <td>3</td>\n",
       "      <td>5</td>\n",
       "    </tr>\n",
       "    <tr>\n",
       "      <th>1884</th>\n",
       "      <td>2989</td>\n",
       "      <td>For Your Eyes Only (1981)</td>\n",
       "      <td>18</td>\n",
       "      <td>18</td>\n",
       "      <td>F</td>\n",
       "      <td>3</td>\n",
       "      <td>5</td>\n",
       "    </tr>\n",
       "    <tr>\n",
       "      <th>1885</th>\n",
       "      <td>2622</td>\n",
       "      <td>Midsummer Night's Dream, A (1999)</td>\n",
       "      <td>18</td>\n",
       "      <td>18</td>\n",
       "      <td>F</td>\n",
       "      <td>3</td>\n",
       "      <td>5</td>\n",
       "    </tr>\n",
       "    <tr>\n",
       "      <th>1889</th>\n",
       "      <td>1683</td>\n",
       "      <td>Wings of the Dove, The (1997)</td>\n",
       "      <td>18</td>\n",
       "      <td>18</td>\n",
       "      <td>F</td>\n",
       "      <td>3</td>\n",
       "      <td>5</td>\n",
       "    </tr>\n",
       "    <tr>\n",
       "      <th>1893</th>\n",
       "      <td>3793</td>\n",
       "      <td>X-Men (2000)</td>\n",
       "      <td>18</td>\n",
       "      <td>18</td>\n",
       "      <td>F</td>\n",
       "      <td>3</td>\n",
       "      <td>5</td>\n",
       "    </tr>\n",
       "    <tr>\n",
       "      <th>...</th>\n",
       "      <td>...</td>\n",
       "      <td>...</td>\n",
       "      <td>...</td>\n",
       "      <td>...</td>\n",
       "      <td>...</td>\n",
       "      <td>...</td>\n",
       "      <td>...</td>\n",
       "    </tr>\n",
       "    <tr>\n",
       "      <th>996033</th>\n",
       "      <td>150</td>\n",
       "      <td>Apollo 13 (1995)</td>\n",
       "      <td>6031</td>\n",
       "      <td>18</td>\n",
       "      <td>F</td>\n",
       "      <td>0</td>\n",
       "      <td>5</td>\n",
       "    </tr>\n",
       "    <tr>\n",
       "      <th>996036</th>\n",
       "      <td>1010</td>\n",
       "      <td>Love Bug, The (1969)</td>\n",
       "      <td>6031</td>\n",
       "      <td>18</td>\n",
       "      <td>F</td>\n",
       "      <td>0</td>\n",
       "      <td>5</td>\n",
       "    </tr>\n",
       "    <tr>\n",
       "      <th>996038</th>\n",
       "      <td>1036</td>\n",
       "      <td>Die Hard (1988)</td>\n",
       "      <td>6031</td>\n",
       "      <td>18</td>\n",
       "      <td>F</td>\n",
       "      <td>0</td>\n",
       "      <td>5</td>\n",
       "    </tr>\n",
       "    <tr>\n",
       "      <th>996039</th>\n",
       "      <td>2001</td>\n",
       "      <td>Lethal Weapon 2 (1989)</td>\n",
       "      <td>6031</td>\n",
       "      <td>18</td>\n",
       "      <td>F</td>\n",
       "      <td>0</td>\n",
       "      <td>5</td>\n",
       "    </tr>\n",
       "    <tr>\n",
       "      <th>996043</th>\n",
       "      <td>1097</td>\n",
       "      <td>E.T. the Extra-Terrestrial (1982)</td>\n",
       "      <td>6031</td>\n",
       "      <td>18</td>\n",
       "      <td>F</td>\n",
       "      <td>0</td>\n",
       "      <td>5</td>\n",
       "    </tr>\n",
       "  </tbody>\n",
       "</table>\n",
       "<p>47163 rows × 7 columns</p>\n",
       "</div>"
      ],
      "text/plain": [
       "        MovieID                              Title  UserID  Age Gender  \\\n",
       "1883       2987    Who Framed Roger Rabbit? (1988)      18   18      F   \n",
       "1884       2989          For Your Eyes Only (1981)      18   18      F   \n",
       "1885       2622  Midsummer Night's Dream, A (1999)      18   18      F   \n",
       "1889       1683      Wings of the Dove, The (1997)      18   18      F   \n",
       "1893       3793                       X-Men (2000)      18   18      F   \n",
       "...         ...                                ...     ...  ...    ...   \n",
       "996033      150                   Apollo 13 (1995)    6031   18      F   \n",
       "996036     1010               Love Bug, The (1969)    6031   18      F   \n",
       "996038     1036                    Die Hard (1988)    6031   18      F   \n",
       "996039     2001             Lethal Weapon 2 (1989)    6031   18      F   \n",
       "996043     1097  E.T. the Extra-Terrestrial (1982)    6031   18      F   \n",
       "\n",
       "        Occupation  Rating  \n",
       "1883             3       5  \n",
       "1884             3       5  \n",
       "1885             3       5  \n",
       "1889             3       5  \n",
       "1893             3       5  \n",
       "...            ...     ...  \n",
       "996033           0       5  \n",
       "996036           0       5  \n",
       "996038           0       5  \n",
       "996039           0       5  \n",
       "996043           0       5  \n",
       "\n",
       "[47163 rows x 7 columns]"
      ]
     },
     "execution_count": 8,
     "metadata": {},
     "output_type": "execute_result"
    }
   ],
   "source": [
    "# all 5 rating movies list and Age Lass Then 25 count = 47163\n",
    "master_data[(master_data['Rating'] == 5) & (master_data['Age'] < 25 ) ] "
   ]
  },
  {
   "cell_type": "code",
   "execution_count": 9,
   "id": "e0589992",
   "metadata": {},
   "outputs": [
    {
     "data": {
      "text/html": [
       "<div>\n",
       "<style scoped>\n",
       "    .dataframe tbody tr th:only-of-type {\n",
       "        vertical-align: middle;\n",
       "    }\n",
       "\n",
       "    .dataframe tbody tr th {\n",
       "        vertical-align: top;\n",
       "    }\n",
       "\n",
       "    .dataframe thead th {\n",
       "        text-align: right;\n",
       "    }\n",
       "</style>\n",
       "<table border=\"1\" class=\"dataframe\">\n",
       "  <thead>\n",
       "    <tr style=\"text-align: right;\">\n",
       "      <th></th>\n",
       "      <th>MovieID</th>\n",
       "      <th>Title</th>\n",
       "      <th>UserID</th>\n",
       "      <th>Age</th>\n",
       "      <th>Gender</th>\n",
       "      <th>Occupation</th>\n",
       "      <th>Rating</th>\n",
       "    </tr>\n",
       "  </thead>\n",
       "  <tbody>\n",
       "    <tr>\n",
       "      <th>1898</th>\n",
       "      <td>1186</td>\n",
       "      <td>Sex, Lies, and Videotape (1989)</td>\n",
       "      <td>18</td>\n",
       "      <td>18</td>\n",
       "      <td>F</td>\n",
       "      <td>3</td>\n",
       "      <td>1</td>\n",
       "    </tr>\n",
       "    <tr>\n",
       "      <th>1902</th>\n",
       "      <td>3438</td>\n",
       "      <td>Teenage Mutant Ninja Turtles (1990)</td>\n",
       "      <td>18</td>\n",
       "      <td>18</td>\n",
       "      <td>F</td>\n",
       "      <td>3</td>\n",
       "      <td>2</td>\n",
       "    </tr>\n",
       "    <tr>\n",
       "      <th>1905</th>\n",
       "      <td>3439</td>\n",
       "      <td>Teenage Mutant Ninja Turtles II: The Secret of...</td>\n",
       "      <td>18</td>\n",
       "      <td>18</td>\n",
       "      <td>F</td>\n",
       "      <td>3</td>\n",
       "      <td>1</td>\n",
       "    </tr>\n",
       "    <tr>\n",
       "      <th>1907</th>\n",
       "      <td>1690</td>\n",
       "      <td>Alien: Resurrection (1997)</td>\n",
       "      <td>18</td>\n",
       "      <td>18</td>\n",
       "      <td>F</td>\n",
       "      <td>3</td>\n",
       "      <td>1</td>\n",
       "    </tr>\n",
       "    <tr>\n",
       "      <th>1909</th>\n",
       "      <td>2</td>\n",
       "      <td>Jumanji (1995)</td>\n",
       "      <td>18</td>\n",
       "      <td>18</td>\n",
       "      <td>F</td>\n",
       "      <td>3</td>\n",
       "      <td>2</td>\n",
       "    </tr>\n",
       "    <tr>\n",
       "      <th>...</th>\n",
       "      <td>...</td>\n",
       "      <td>...</td>\n",
       "      <td>...</td>\n",
       "      <td>...</td>\n",
       "      <td>...</td>\n",
       "      <td>...</td>\n",
       "      <td>...</td>\n",
       "    </tr>\n",
       "    <tr>\n",
       "      <th>996023</th>\n",
       "      <td>785</td>\n",
       "      <td>Kingpin (1996)</td>\n",
       "      <td>6031</td>\n",
       "      <td>18</td>\n",
       "      <td>F</td>\n",
       "      <td>0</td>\n",
       "      <td>2</td>\n",
       "    </tr>\n",
       "    <tr>\n",
       "      <th>996025</th>\n",
       "      <td>1648</td>\n",
       "      <td>House of Yes, The (1997)</td>\n",
       "      <td>6031</td>\n",
       "      <td>18</td>\n",
       "      <td>F</td>\n",
       "      <td>0</td>\n",
       "      <td>2</td>\n",
       "    </tr>\n",
       "    <tr>\n",
       "      <th>996030</th>\n",
       "      <td>1394</td>\n",
       "      <td>Raising Arizona (1987)</td>\n",
       "      <td>6031</td>\n",
       "      <td>18</td>\n",
       "      <td>F</td>\n",
       "      <td>0</td>\n",
       "      <td>2</td>\n",
       "    </tr>\n",
       "    <tr>\n",
       "      <th>996034</th>\n",
       "      <td>151</td>\n",
       "      <td>Rob Roy (1995)</td>\n",
       "      <td>6031</td>\n",
       "      <td>18</td>\n",
       "      <td>F</td>\n",
       "      <td>0</td>\n",
       "      <td>1</td>\n",
       "    </tr>\n",
       "    <tr>\n",
       "      <th>996041</th>\n",
       "      <td>553</td>\n",
       "      <td>Tombstone (1993)</td>\n",
       "      <td>6031</td>\n",
       "      <td>18</td>\n",
       "      <td>F</td>\n",
       "      <td>0</td>\n",
       "      <td>1</td>\n",
       "    </tr>\n",
       "  </tbody>\n",
       "</table>\n",
       "<p>40329 rows × 7 columns</p>\n",
       "</div>"
      ],
      "text/plain": [
       "        MovieID                                              Title  UserID  \\\n",
       "1898       1186                    Sex, Lies, and Videotape (1989)      18   \n",
       "1902       3438                Teenage Mutant Ninja Turtles (1990)      18   \n",
       "1905       3439  Teenage Mutant Ninja Turtles II: The Secret of...      18   \n",
       "1907       1690                         Alien: Resurrection (1997)      18   \n",
       "1909          2                                     Jumanji (1995)      18   \n",
       "...         ...                                                ...     ...   \n",
       "996023      785                                     Kingpin (1996)    6031   \n",
       "996025     1648                           House of Yes, The (1997)    6031   \n",
       "996030     1394                             Raising Arizona (1987)    6031   \n",
       "996034      151                                     Rob Roy (1995)    6031   \n",
       "996041      553                                   Tombstone (1993)    6031   \n",
       "\n",
       "        Age Gender  Occupation  Rating  \n",
       "1898     18      F           3       1  \n",
       "1902     18      F           3       2  \n",
       "1905     18      F           3       1  \n",
       "1907     18      F           3       1  \n",
       "1909     18      F           3       2  \n",
       "...     ...    ...         ...     ...  \n",
       "996023   18      F           0       2  \n",
       "996025   18      F           0       2  \n",
       "996030   18      F           0       2  \n",
       "996034   18      F           0       1  \n",
       "996041   18      F           0       1  \n",
       "\n",
       "[40329 rows x 7 columns]"
      ]
     },
     "execution_count": 9,
     "metadata": {},
     "output_type": "execute_result"
    }
   ],
   "source": [
    "# all 5 rating movies list and Age Lass Then 25 count = 47163\n",
    "master_data[(master_data['Rating'] < 3) & (master_data['Age'] < 25 )] "
   ]
  },
  {
   "cell_type": "code",
   "execution_count": 10,
   "id": "54c9291b",
   "metadata": {},
   "outputs": [
    {
     "data": {
      "image/png": "[encoded data removed]",
      "text/plain": [
       "<Figure size 1080x504 with 1 Axes>"
      ]
     },
     "metadata": {
      "needs_background": "light"
     },
     "output_type": "display_data"
    }
   ],
   "source": [
    "master_data['Age'].value_counts().plot(kind='bar', color= ['cyan', 'blue'],alpha=0.5,figsize=(15,7))\n",
    "plt.show()"
   ]
  },
  {
   "cell_type": "code",
   "execution_count": 11,
   "id": "24dae6c6",
   "metadata": {},
   "outputs": [
    {
     "data": {
      "image/png": "[encoded data removed]",
      "text/plain": [
       "<Figure size 1080x504 with 1 Axes>"
      ]
     },
     "metadata": {
      "needs_background": "light"
     },
     "output_type": "display_data"
    }
   ],
   "source": [
    "master_data['Rating'].value_counts().plot(kind='bar', color=['green', 'yellow'],alpha=0.5,figsize=(15,7))\n",
    "plt.show()"
   ]
  },
  {
   "cell_type": "code",
   "execution_count": 12,
   "id": "ab43343e",
   "metadata": {},
   "outputs": [
    {
     "data": {
      "text/plain": [
       "Age\n",
       "18    34\n",
       "25    72\n",
       "35    29\n",
       "45    12\n",
       "50     4\n",
       "56     7\n",
       "Name: MovieID, dtype: int64"
      ]
     },
     "execution_count": 12,
     "metadata": {},
     "output_type": "execute_result"
    },
    {
     "data": {
      "image/png": "[encoded data removed]",
      "text/plain": [
       "<Figure size 432x288 with 1 Axes>"
      ]
     },
     "metadata": {
      "needs_background": "light"
     },
     "output_type": "display_data"
    }
   ],
   "source": [
    "res = master_data[master_data.Title == \"Only You (1994)\"]\n",
    "\n",
    "plt.plot(res.groupby(\"Age\")[\"MovieID\"].count(),'--bo')\n",
    "res.groupby(\"Age\")[\"MovieID\"].count()"
   ]
  },
  {
   "cell_type": "code",
   "execution_count": 13,
   "id": "9a9c501e",
   "metadata": {},
   "outputs": [
    {
     "data": {
      "image/png": "[encoded data removed]",
      "text/plain": [
       "<Figure size 432x288 with 1 Axes>"
      ]
     },
     "metadata": {
      "needs_background": "light"
     },
     "output_type": "display_data"
    }
   ],
   "source": [
    "#Find the ratings for all the movies reviewed by for a particular user of user id = 700\n",
    "\n",
    "res = master_data[master_data.UserID == 700]\n",
    "\n",
    "plt.scatter(y=res.Title, x=res.Rating , color = 'aqua')\n",
    "plt.show()"
   ]
  },
  {
   "cell_type": "code",
   "execution_count": 14,
   "id": "bebe8551",
   "metadata": {},
   "outputs": [
    {
     "data": {
      "image/png": "[encoded data removed]",
      "text/plain": [
       "<Figure size 432x288 with 1 Axes>"
      ]
     },
     "metadata": {
      "needs_background": "light"
     },
     "output_type": "display_data"
    }
   ],
   "source": [
    "res = master_data.groupby(\"Title\").size().sort_values(ascending=False)[:25]\n",
    "plt.ylabel(\"Title\")\n",
    "plt.xlabel(\"Viewership Count\")\n",
    "res.plot(kind=\"barh\", color = ['lightseagreen', 'turquoise', 'deepskyblue'])\n",
    "plt.show()"
   ]
  },
  {
   "cell_type": "code",
   "execution_count": 15,
   "id": "74bcec81",
   "metadata": {},
   "outputs": [
    {
     "data": {
      "image/png": "[encoded data removed]",
      "text/plain": [
       "<Figure size 432x288 with 1 Axes>"
      ]
     },
     "metadata": {
      "needs_background": "light"
     },
     "output_type": "display_data"
    }
   ],
   "source": [
    "res = master_data.groupby(\"Gender\").size().sort_values(ascending=False)[:25]\n",
    "plt.ylabel(\"Gender\")\n",
    "plt.xlabel(\"Viewership Count\")\n",
    "res.plot(kind=\"kde\")\n",
    "plt.show()"
   ]
  },
  {
   "cell_type": "code",
   "execution_count": 16,
   "id": "7173c037",
   "metadata": {},
   "outputs": [
    {
     "data": {
      "text/plain": [
       "<AxesSubplot:xlabel='Rating', ylabel='Rating'>"
      ]
     },
     "execution_count": 16,
     "metadata": {},
     "output_type": "execute_result"
    },
    {
     "data": {
      "image/png": "[encoded data removed]",
      "text/plain": [
       "<Figure size 432x288 with 1 Axes>"
      ]
     },
     "metadata": {
      "needs_background": "light"
     },
     "output_type": "display_data"
    }
   ],
   "source": [
    "res = master_data.groupby(\"Rating\").size().sort_values(ascending=False)[:25]\n",
    "plt.ylabel(\"Rating\")\n",
    "plt.xlabel(\"Viewership Count\")\n",
    "res.plot(kind='bar', color= ['red', 'darkorange'])"
   ]
  },
  {
   "cell_type": "code",
   "execution_count": 17,
   "id": "f06f8ed5",
   "metadata": {},
   "outputs": [],
   "source": [
    "#First 500 extracted records\n",
    "first_500 = master_data[500:]\n",
    "first_500.dropna(inplace=True)"
   ]
  },
  {
   "cell_type": "code",
   "execution_count": 18,
   "id": "96cb4acd",
   "metadata": {},
   "outputs": [],
   "source": [
    "#Use the following features:movie id,age,occupation\n",
    "features = first_500[['MovieID','Age','Occupation']].values\n",
    "\n",
    "#Use rating as label\n",
    "labels = first_500[['Rating']].values"
   ]
  },
  {
   "cell_type": "code",
   "execution_count": 19,
   "id": "9924aaee",
   "metadata": {},
   "outputs": [],
   "source": [
    "#Create train and test data set\n",
    "train, test, train_labels, test_labels = train_test_split(features,labels,test_size=0.33,random_state=42)"
   ]
  },
  {
   "cell_type": "markdown",
   "id": "ea88abe4",
   "metadata": {},
   "source": [
    "LogisticRegression"
   ]
  },
  {
   "cell_type": "code",
   "execution_count": 20,
   "id": "6a06b1dd",
   "metadata": {},
   "outputs": [
    {
     "data": {
      "text/plain": [
       "34.86"
      ]
     },
     "execution_count": 20,
     "metadata": {},
     "output_type": "execute_result"
    }
   ],
   "source": [
    "logreg = LogisticRegression()\n",
    "logreg.fit(train, train_labels)\n",
    "Y_pred = logreg.predict(test)\n",
    "acc_log = round(logreg.score(train, train_labels) * 100, 2)\n",
    "acc_log"
   ]
  },
  {
   "cell_type": "markdown",
   "id": "8e4a5317",
   "metadata": {},
   "source": [
    "K-NeighborsClassifier[KNN]"
   ]
  },
  {
   "cell_type": "code",
   "execution_count": 21,
   "id": "489332be",
   "metadata": {},
   "outputs": [
    {
     "data": {
      "text/plain": [
       "44.86"
      ]
     },
     "execution_count": 21,
     "metadata": {},
     "output_type": "execute_result"
    }
   ],
   "source": [
    "knn = KNeighborsClassifier(n_neighbors = 3)\n",
    "knn.fit(train, train_labels)\n",
    "Y_pred = knn.predict(test)\n",
    "acc_knn = round(knn.score(train, train_labels) * 100, 2)\n",
    "acc_knn"
   ]
  },
  {
   "cell_type": "markdown",
   "id": "6ba386cb",
   "metadata": {},
   "source": [
    "gaussian"
   ]
  },
  {
   "cell_type": "code",
   "execution_count": 23,
   "id": "463a85af",
   "metadata": {},
   "outputs": [
    {
     "data": {
      "text/plain": [
       "34.88"
      ]
     },
     "execution_count": 23,
     "metadata": {},
     "output_type": "execute_result"
    }
   ],
   "source": [
    "gaussian = GaussianNB()\n",
    "gaussian.fit(train, train_labels)\n",
    "Y_pred = gaussian.predict(test)\n",
    "acc_gaussian = round(gaussian.score(train, train_labels) * 100, 2)\n",
    "acc_gaussian"
   ]
  },
  {
   "cell_type": "markdown",
   "id": "f5aa94d4",
   "metadata": {},
   "source": [
    "perceptron"
   ]
  },
  {
   "cell_type": "code",
   "execution_count": 24,
   "id": "5460e21e",
   "metadata": {},
   "outputs": [
    {
     "data": {
      "text/plain": [
       "33.05"
      ]
     },
     "execution_count": 24,
     "metadata": {},
     "output_type": "execute_result"
    }
   ],
   "source": [
    "perceptron = Perceptron()\n",
    "perceptron.fit(train, train_labels)\n",
    "Y_pred = perceptron.predict(test)\n",
    "acc_perceptron = round(perceptron.score(train, train_labels) * 100, 2)\n",
    "acc_perceptron"
   ]
  },
  {
   "cell_type": "markdown",
   "id": "687acd2e",
   "metadata": {},
   "source": [
    "decision_tree"
   ]
  },
  {
   "cell_type": "code",
   "execution_count": 25,
   "id": "1fb85222",
   "metadata": {},
   "outputs": [
    {
     "data": {
      "text/plain": [
       "56.54"
      ]
     },
     "execution_count": 25,
     "metadata": {},
     "output_type": "execute_result"
    }
   ],
   "source": [
    "decision_tree = DecisionTreeClassifier()\n",
    "decision_tree.fit(train, train_labels)\n",
    "Y_pred = decision_tree.predict(test)\n",
    "acc_decision_tree = round(decision_tree.score(train, train_labels) * 100, 2)\n",
    "acc_decision_tree"
   ]
  }
 ],
 "metadata": {
  "kernelspec": {
   "display_name": "Python 3 (ipykernel)",
   "language": "python",
   "name": "python3"
  },
  "language_info": {
   "codemirror_mode": {
    "name": "ipython",
    "version": 3
   },
   "file_extension": ".py",
   "mimetype": "text/x-python",
   "name": "python",
   "nbconvert_exporter": "python",
   "pygments_lexer": "ipython3",
   "version": "3.10.5"
  }
 },
 "nbformat": 4,
 "nbformat_minor": 5
}
